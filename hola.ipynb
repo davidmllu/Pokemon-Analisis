{
 "cells": [
  {
   "cell_type": "code",
   "execution_count": 1,
   "metadata": {},
   "outputs": [],
   "source": [
    "from flask import Flask, jsonify, request\n",
    "from flask_cors import CORS, cross_origin\n",
    "\n",
    "import pickle\n",
    "import pandas as pd"
   ]
  }
